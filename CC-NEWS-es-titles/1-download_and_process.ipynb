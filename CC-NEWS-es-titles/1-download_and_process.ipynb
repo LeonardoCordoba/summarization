{
 "cells": [
  {
   "cell_type": "code",
   "execution_count": null,
   "metadata": {},
   "outputs": [],
   "source": [
    "from selectolax.parser import HTMLParser\n",
    "import sagemaker\n",
    "from sagemaker import get_execution_role\n",
    "import boto3\n",
    "import json\n",
    "from warcio.archiveiterator import ArchiveIterator\n",
    "import re\n",
    "import pandas as pd\n",
    "from time import time\n",
    "from collections import defaultdict"
   ]
  },
  {
   "cell_type": "code",
   "execution_count": null,
   "metadata": {},
   "outputs": [],
   "source": [
    "# !pip install sagemaker==1.7.0"
   ]
  },
  {
   "cell_type": "code",
   "execution_count": null,
   "metadata": {},
   "outputs": [],
   "source": [
    "sess = sagemaker.Session()\n",
    "role = get_execution_role()\n",
    "print(role) # This is the role that SageMaker would use to leverage AWS resources on your behalf"
   ]
  },
  {
   "cell_type": "code",
   "execution_count": null,
   "metadata": {},
   "outputs": [],
   "source": [
    "region_name = boto3.Session().region_name"
   ]
  },
  {
   "cell_type": "code",
   "execution_count": null,
   "metadata": {},
   "outputs": [],
   "source": [
    "bucket = # complete with: \"your-bucket\"\n",
    "print(bucket)\n",
    "prefix = \"models/lang_ident/\""
   ]
  },
  {
   "cell_type": "code",
   "execution_count": null,
   "metadata": {},
   "outputs": [],
   "source": [
    "# Create model endpoint"
   ]
  },
  {
   "cell_type": "code",
   "execution_count": null,
   "metadata": {},
   "outputs": [],
   "source": [
    "!wget -O model.bin https://dl.fbaipublicfiles.com/fasttext/supervised-models/lid.176.bin\n",
    "!tar -czvf langid.tar.gz model.bin\n",
    "model_location = sess.upload_data(\"langid.tar.gz\", bucket=bucket, key_prefix=prefix)\n",
    "!rm langid.tar.gz model.bin"
   ]
  },
  {
   "cell_type": "code",
   "execution_count": null,
   "metadata": {},
   "outputs": [],
   "source": [
    "model_location"
   ]
  },
  {
   "cell_type": "code",
   "execution_count": null,
   "metadata": {},
   "outputs": [],
   "source": [
    "container = sagemaker.amazon.amazon_estimator.get_image_uri(\"us-east-1\", \"blazingtext\", \"latest\")"
   ]
  },
  {
   "cell_type": "code",
   "execution_count": null,
   "metadata": {},
   "outputs": [],
   "source": [
    "container"
   ]
  },
  {
   "cell_type": "code",
   "execution_count": null,
   "metadata": {},
   "outputs": [],
   "source": [
    "model_name = \"blazing-text-cc-news\"\n",
    "create_model_response = sagemaker.create_model(\n",
    "    ModelName = model_name,\n",
    "    ExecutionRoleArn = role,\n",
    "    PrimaryContainer = container)"
   ]
  },
  {
   "cell_type": "code",
   "execution_count": null,
   "metadata": {},
   "outputs": [],
   "source": [
    "model.name"
   ]
  },
  {
   "cell_type": "code",
   "execution_count": null,
   "metadata": {},
   "outputs": [],
   "source": [
    "predictor = sagemaker.predictor"
   ]
  },
  {
   "cell_type": "code",
   "execution_count": null,
   "metadata": {},
   "outputs": [],
   "source": [
    "endpoint_name = \"my-endpoint-name\"\n",
    "predictor = sagemaker.RealTimePredictor(endpoint=endpoint_name, \n",
    "                                   sagemaker_session=sess,\n",
    "                                   serializer=json.dumps,\n",
    "                                   deserializer=sagemaker.predictor.json_deserializer)"
   ]
  },
  {
   "cell_type": "code",
   "execution_count": null,
   "metadata": {},
   "outputs": [],
   "source": [
    "sentences = [\"hi which language is this?\",\n",
    "             \"en que idioma es esto\",\n",
    "             \"mon nom est Pierre\",\n",
    "             \"Dem Jungen gab ich einen Ball.\",\n",
    "             \"আমি বাড়ি যাবো.\"]\n",
    "payload = {\"instances\" : sentences}\n",
    "predictions = predictor.predict(payload)\n",
    "print(predictions)"
   ]
  },
  {
   "cell_type": "code",
   "execution_count": null,
   "metadata": {},
   "outputs": [],
   "source": [
    "session = boto3.Session()\n",
    "s3 = session.client(\"s3\")"
   ]
  },
  {
   "cell_type": "code",
   "execution_count": null,
   "metadata": {},
   "outputs": [],
   "source": [
    "def get_keys_from_prefix(session, bucket, prefix):\n",
    "    \"\"\"\n",
    "    :param prefix: string, prefix to search for the keys\n",
    "    :return: list, list of keys\n",
    "    \"\"\"\n",
    "    keys = []\n",
    "\n",
    "    try:\n",
    "        objects = session.list_objects(Bucket=bucket, Prefix=prefix)\n",
    "        is_truncated = objects[\"IsTruncated\"]\n",
    "\n",
    "        for i in objects[\"Contents\"]:\n",
    "            keys.append(i[\"Key\"])\n",
    "\n",
    "        if is_truncated:\n",
    "            last_key = keys[-1]\n",
    "\n",
    "            while is_truncated:\n",
    "                objs = session.list_objects(Bucket=bucket,\n",
    "                                            Prefix=prefix, \n",
    "                                            Marker=last_key)\n",
    "                is_truncated = objs[\"IsTruncated\"]\n",
    "\n",
    "                for i in objs[\"Contents\"]:\n",
    "                    keys.append(i[\"Key\"])\n",
    "\n",
    "                if is_truncated:\n",
    "                    last_key = keys[-1]\n",
    "    except KeyError:\n",
    "        print(\"Prefix doesn't exist\")\n",
    "        keys = None\n",
    "\n",
    "    return keys"
   ]
  },
  {
   "cell_type": "code",
   "execution_count": null,
   "metadata": {},
   "outputs": [],
   "source": [
    "crawl_2019 = get_keys_from_prefix(session=s3, bucket=\"commoncrawl\", prefix=\"crawl-data/CC-NEWS/2019/\")"
   ]
  },
  {
   "cell_type": "code",
   "execution_count": null,
   "metadata": {},
   "outputs": [],
   "source": [
    "def get_tree(html):\n",
    "    return HTMLParser(html)"
   ]
  },
  {
   "cell_type": "code",
   "execution_count": null,
   "metadata": {},
   "outputs": [],
   "source": [
    "def get_h1(tree):\n",
    "    results = tree.tags(\"h1\")\n",
    "    if len(results) != 1:\n",
    "        return None\n",
    "    return results[0]"
   ]
  },
  {
   "cell_type": "code",
   "execution_count": null,
   "metadata": {},
   "outputs": [],
   "source": [
    "def get_base_text(tree):\n",
    "    if tree.body is None:\n",
    "        return None\n",
    "    for tag in tree.css('script'):\n",
    "        tag.decompose()\n",
    "    for tag in tree.css('style'):\n",
    "        tag.decompose()\n",
    "\n",
    "    text = tree.body.text(separator='\\n')\n",
    "    return text\n",
    "\n",
    "def match_domain(domain):\n",
    "    regex = r\"^[^\\/]+:\\/\\/[^\\/]*?\\.?([^\\/.]+)(\\.[^\\/.]+)(?::\\d+)?\\/\"\n",
    "    reg_ex = re.compile(regex)\n",
    "    return reg_ex.match(domain)\n",
    "\n",
    "def doc_preprocess(doc):\n",
    "    doc = doc.replace(\"\\n\\n\",\"\")\n",
    "    doc = re.sub(' +', ' ', doc)\n",
    "    return doc\n",
    "\n",
    "def text_preprocess(text):\n",
    "    text = text.strip()\n",
    "    return text\n",
    "\n",
    "def get_n_words(text):\n",
    "    return len(re.findall(r'\\w+', text))\n",
    "\n",
    "def is_lang_1(model, text, e_lang, threshold):\n",
    "    o_lang, prob = model.predict(text.replace(\"\\n\", \"\"))\n",
    "    e_lang = f\"__label__{e_lang}\"\n",
    "    return (o_lang[0] == e_lang) & (prob[0]>threshold)\n",
    "\n",
    "def is_lang_2(model, text, e_lang, threshold):\n",
    "    response = model.predict({\"instances\":[text.replace(\"\\n\", \"\")]})\n",
    "    prob = response[0][\"prob\"]\n",
    "    o_lang = response[0][\"label\"]\n",
    "    e_lang = f\"__label__{e_lang}\"    \n",
    "    return (o_lang[0] == e_lang) & (prob[0] > threshold)\n",
    "\n",
    "def make_doc(o_text, min_words, model, lang=\"es\", threshold=0.5):\n",
    "    full_text = \"\"\n",
    "    for section in doc_preprocess(o_text).split(\"\\t\"):\n",
    "        for sub_section in section.split(\"\\n\"):\n",
    "            sub_section = text_preprocess(sub_section)\n",
    "            n = get_n_words(sub_section)\n",
    "            if (n > min_words) and (match_domain(sub_section) is None):\n",
    "                if is_lang_2(model, sub_section, lang, threshold):\n",
    "                    full_text += sub_section\n",
    "                    full_text += \"\\t\"\n",
    "    return full_text"
   ]
  },
  {
   "cell_type": "code",
   "execution_count": null,
   "metadata": {},
   "outputs": [],
   "source": [
    "def process_file(path, model):\n",
    "    texts = defaultdict(lambda: [])\n",
    "    with open(path, 'rb') as stream:\n",
    "        for record in ArchiveIterator(stream):\n",
    "            if record.rec_type == 'response':\n",
    "                try:\n",
    "                    domain = record.rec_headers.get_header('WARC-Target-URI')\n",
    "                    match = match_domain(domain)\n",
    "                    content = record.content_stream().read()\n",
    "                    tree = get_tree(content)\n",
    "                    text = get_base_text(tree)\n",
    "                    title = get_h1(tree)\n",
    "                    if text != None and title != None:\n",
    "                        doc = make_doc(text, min_words=50, model=model, lang=\"es\", threshold=0.5)\n",
    "                        if len(doc)>0:\n",
    "                            texts[match[2]].append((domain, match[0], doc))\n",
    "                    else:\n",
    "                        continue\n",
    "                except Exception as e:\n",
    "                    print(e)\n",
    "    return texts"
   ]
  },
  {
   "cell_type": "code",
   "execution_count": null,
   "metadata": {},
   "outputs": [],
   "source": [
    "warctemp = \"tmp1.warc.gz\""
   ]
  },
  {
   "cell_type": "code",
   "execution_count": null,
   "metadata": {},
   "outputs": [],
   "source": [
    "count = 0\n",
    "for url in crawl_2019:\n",
    "    print(len(crawl_2019) - count)\n",
    "    count += 1\n",
    "    s3.download_file(\"commoncrawl\", url, warctemp)\n",
    "    texts = defaultdict(lambda: [])\n",
    "    texts = process_file(warctemp, predictor)\n",
    "    new_url = url.replace(\".warc.gz\", \".json\")\n",
    "    s3.put_object(\n",
    "        Body=(bytes(json.dumps(texts).encode('UTF-8'))),\n",
    "        Bucket=bucket,\n",
    "        Key=new_url\n",
    "    )"
   ]
  },
  {
   "cell_type": "code",
   "execution_count": null,
   "metadata": {},
   "outputs": [],
   "source": [
    "print(\"Finished!\")"
   ]
  }
 ],
 "metadata": {
  "kernelspec": {
   "display_name": "Python 3",
   "language": "python",
   "name": "python3"
  },
  "language_info": {
   "codemirror_mode": {
    "name": "ipython",
    "version": 3
   },
   "file_extension": ".py",
   "mimetype": "text/x-python",
   "name": "python",
   "nbconvert_exporter": "python",
   "pygments_lexer": "ipython3",
   "version": "3.8.5"
  }
 },
 "nbformat": 4,
 "nbformat_minor": 2
}
