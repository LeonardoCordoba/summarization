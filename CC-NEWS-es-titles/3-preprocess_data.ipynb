{
 "cells": [
  {
   "cell_type": "code",
   "execution_count": null,
   "metadata": {},
   "outputs": [],
   "source": [
    "!pip install unidecode"
   ]
  },
  {
   "cell_type": "code",
   "execution_count": null,
   "metadata": {},
   "outputs": [],
   "source": [
    "import pandas as pd\n",
    "import boto3\n",
    "import json\n",
    "from preprocess_utils import preprocess_text\n",
    "import unidecode"
   ]
  },
  {
   "cell_type": "code",
   "execution_count": null,
   "metadata": {},
   "outputs": [],
   "source": [
    "session = boto3.Session()\n",
    "s3 = session.client(\"s3\")"
   ]
  },
  {
   "cell_type": "code",
   "execution_count": null,
   "metadata": {},
   "outputs": [],
   "source": [
    "def get_keys_from_prefix(session, bucket, prefix):\n",
    "    \"\"\"\n",
    "    :param prefix: string, prefix to search for the keys\n",
    "    :return: list, list of keys\n",
    "    \"\"\"\n",
    "    keys = []\n",
    "\n",
    "    try:\n",
    "        objects = session.list_objects(Bucket=bucket, Prefix=prefix)\n",
    "        is_truncated = objects[\"IsTruncated\"]\n",
    "\n",
    "        for i in objects[\"Contents\"]:\n",
    "            keys.append(i[\"Key\"])\n",
    "\n",
    "        if is_truncated:\n",
    "            last_key = keys[-1]\n",
    "\n",
    "            while is_truncated:\n",
    "                objs = session.list_objects(Bucket=bucket,\n",
    "                                            Prefix=prefix, \n",
    "                                            Marker=last_key)\n",
    "                is_truncated = objs[\"IsTruncated\"]\n",
    "\n",
    "                for i in objs[\"Contents\"]:\n",
    "                    keys.append(i[\"Key\"])\n",
    "\n",
    "                if is_truncated:\n",
    "                    last_key = keys[-1]\n",
    "    except KeyError:\n",
    "        print(\"Prefix doesn't exist\")\n",
    "        keys = None\n",
    "\n",
    "    return keys"
   ]
  },
  {
   "cell_type": "code",
   "execution_count": null,
   "metadata": {},
   "outputs": [],
   "source": [
    "bucket = \"cc-news\""
   ]
  },
  {
   "cell_type": "code",
   "execution_count": null,
   "metadata": {},
   "outputs": [],
   "source": [
    "countries = [\".ar\", \".bo\", \".br\", \".cl\", \".cr\", \".co\", \".gt\", \".hn\", \".ht\", \".jm\", \".mx\", \".ni\", \".pa\", \".pe\", \".pr\", \n",
    "\".py\", \".sv\", \".uy\", \".ve\", \".com\"]"
   ]
  },
  {
   "cell_type": "code",
   "execution_count": null,
   "metadata": {},
   "outputs": [],
   "source": [
    "for country in countries:\n",
    "    print(country)\n",
    "    prefix = f\"processed_2/{country}/\"\n",
    "    keys = get_keys_from_prefix(s3, bucket, prefix)\n",
    "    \n",
    "    total_result = \"\"\n",
    "    total_k = len(keys)\n",
    "    total_words = 0\n",
    "    total_characters = 0\n",
    "\n",
    "    for k in keys:\n",
    "        total_k -= 1\n",
    "        if total_k % 100 == 0:\n",
    "            print(f\"total remaining:{total_k}\")\n",
    "        response = s3.get_object(Bucket=bucket, Key=k)\n",
    "        response = response[\"Body\"].read().decode(\"utf8\")\n",
    "        result = preprocess_text(response)\n",
    "\n",
    "        words_k = len(result.split(\" \"))\n",
    "        total_words += words_k\n",
    "        characters_k = len(result)\n",
    "        total_characters += characters_k\n",
    "\n",
    "        total_result += result\n",
    "\n",
    "    output_key = f\"processed_3/{country}/processed.txt\"\n",
    "    s3.put_object(Body=total_result,\n",
    "                  Bucket=bucket, \n",
    "                  Key=output_key)\n"
   ]
  },
  {
   "cell_type": "code",
   "execution_count": null,
   "metadata": {},
   "outputs": [],
   "source": []
  }
 ],
 "metadata": {
  "kernelspec": {
   "display_name": "Python 3",
   "language": "python",
   "name": "python3"
  },
  "language_info": {
   "codemirror_mode": {
    "name": "ipython",
    "version": 3
   },
   "file_extension": ".py",
   "mimetype": "text/x-python",
   "name": "python",
   "nbconvert_exporter": "python",
   "pygments_lexer": "ipython3",
   "version": "3.8.5"
  }
 },
 "nbformat": 4,
 "nbformat_minor": 4
}
