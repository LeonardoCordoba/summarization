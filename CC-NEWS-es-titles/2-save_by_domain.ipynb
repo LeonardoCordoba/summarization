{
 "cells": [
  {
   "cell_type": "code",
   "execution_count": 1,
   "metadata": {},
   "outputs": [],
   "source": [
    "import pandas as pd\n",
    "import boto3\n",
    "import json"
   ]
  },
  {
   "cell_type": "code",
   "execution_count": 2,
   "metadata": {},
   "outputs": [],
   "source": [
    "session = boto3.Session()\n",
    "s3 = session.client(\"s3\")"
   ]
  },
  {
   "cell_type": "code",
   "execution_count": 4,
   "metadata": {},
   "outputs": [],
   "source": [
    "def get_keys_from_prefix(session, bucket, prefix):\n",
    "    \"\"\"\n",
    "    :param prefix: string, prefix to search for the keys\n",
    "    :return: list, list of keys\n",
    "    \"\"\"\n",
    "    keys = []\n",
    "\n",
    "    try:\n",
    "        objects = session.list_objects(Bucket=bucket, Prefix=prefix)\n",
    "        is_truncated = objects[\"IsTruncated\"]\n",
    "\n",
    "        for i in objects[\"Contents\"]:\n",
    "            keys.append(i[\"Key\"])\n",
    "\n",
    "        if is_truncated:\n",
    "            last_key = keys[-1]\n",
    "\n",
    "            while is_truncated:\n",
    "                objs = session.list_objects(Bucket=bucket,\n",
    "                                            Prefix=prefix, \n",
    "                                            Marker=last_key)\n",
    "                is_truncated = objs[\"IsTruncated\"]\n",
    "\n",
    "                for i in objs[\"Contents\"]:\n",
    "                    keys.append(i[\"Key\"])\n",
    "\n",
    "                if is_truncated:\n",
    "                    last_key = keys[-1]\n",
    "    except KeyError:\n",
    "        print(\"Prefix doesn't exist\")\n",
    "        keys = None\n",
    "\n",
    "    return keys"
   ]
  },
  {
   "cell_type": "code",
   "execution_count": 5,
   "metadata": {},
   "outputs": [],
   "source": [
    "bucket = # complete with: \"your-bucket\""
   ]
  },
  {
   "cell_type": "code",
   "execution_count": 6,
   "metadata": {},
   "outputs": [],
   "source": [
    "prefix = \"crawl-data/CC-NEWS/2019\""
   ]
  },
  {
   "cell_type": "code",
   "execution_count": 7,
   "metadata": {},
   "outputs": [],
   "source": [
    "keys = get_keys_from_prefix(s3, bucket, prefix)"
   ]
  },
  {
   "cell_type": "code",
   "execution_count": 8,
   "metadata": {},
   "outputs": [
    {
     "data": {
      "text/plain": [
       "3536"
      ]
     },
     "execution_count": 8,
     "metadata": {},
     "output_type": "execute_result"
    }
   ],
   "source": [
    "len(keys)"
   ]
  },
  {
   "cell_type": "code",
   "execution_count": 11,
   "metadata": {},
   "outputs": [],
   "source": [
    "countries = [\".ar\", \".bo\", \".br\", \".cl\", \".cr\", \".co\", \".gt\", \".hn\", \".ht\", \".jm\", \".mx\", \".ni\", \".pa\", \".pe\", \".pr\", \n",
    "\".py\", \".sv\", \".uy\", \".ve\", \".com\"]"
   ]
  },
  {
   "cell_type": "code",
   "execution_count": 12,
   "metadata": {
    "scrolled": true
   },
   "outputs": [],
   "source": [
    "def save_by_domain(response, countries, prefix_base=\"processed_2/\"): \n",
    "    processed_keys = []\n",
    "    for key in response:\n",
    "        if key in countries:\n",
    "            text = \"\"\n",
    "            for i in range(len(response[key])):\n",
    "                text += response[key][i][2]\n",
    "                text += \"\\t\\t\"\n",
    "            output_key = prefix_base + key +\"/\" + str(hash(text))\n",
    "            s3.put_object(Body=text,\n",
    "                          Bucket=bucket, \n",
    "                          Key=output_key)"
   ]
  },
  {
   "cell_type": "code",
   "execution_count": 22,
   "metadata": {},
   "outputs": [
    {
     "name": "stdout",
     "output_type": "stream",
     "text": [
      "0\n",
      "100\n",
      "200\n",
      "300\n",
      "400\n",
      "500\n",
      "600\n",
      "700\n",
      "800\n",
      "900\n",
      "1000\n",
      "1100\n",
      "1200\n",
      "1300\n",
      "1400\n",
      "1500\n",
      "1600\n",
      "1700\n",
      "1800\n",
      "1900\n",
      "2000\n",
      "2100\n",
      "2200\n",
      "2300\n",
      "2400\n",
      "2500\n",
      "2600\n",
      "2700\n",
      "2800\n",
      "2900\n",
      "3000\n",
      "3100\n",
      "3200\n",
      "3300\n"
     ]
    }
   ],
   "source": [
    "processed_keys = []\n",
    "\n",
    "count = 0\n",
    "\n",
    "for k in keys:\n",
    "    if count%100==0:\n",
    "        print(count)\n",
    "    count += 1\n",
    "    response = s3.get_object(Bucket=bucket, Key=k)\n",
    "    response = response[\"Body\"].read()\n",
    "    response = json.loads(response)\n",
    "    save_by_domain(response, countries)\n",
    "    processed_keys.append(k)"
   ]
  }
 ],
 "metadata": {
  "kernelspec": {
   "display_name": "Python 3",
   "language": "python",
   "name": "python3"
  },
  "language_info": {
   "codemirror_mode": {
    "name": "ipython",
    "version": 3
   },
   "file_extension": ".py",
   "mimetype": "text/x-python",
   "name": "python",
   "nbconvert_exporter": "python",
   "pygments_lexer": "ipython3",
   "version": "3.8.5"
  }
 },
 "nbformat": 4,
 "nbformat_minor": 2
}
